{
 "metadata": {
  "name": "",
  "signature": "sha256:9116470c368e68086aa1a98ec555aa601c533847634572c9de70071f2b00394c"
 },
 "nbformat": 3,
 "nbformat_minor": 0,
 "worksheets": [
  {
   "cells": [
    {
     "cell_type": "heading",
     "level": 1,
     "metadata": {},
     "source": [
      "Python Assignment Week 6"
     ]
    },
    {
     "cell_type": "code",
     "collapsed": false,
     "input": [
      "import re\n",
      "filename = \"C:\\Users\\jare\\SkyDrive\\WorkDocs\\CUNY\\Data_Analytics\\Data_Programming\\Week 6/week6python.txt\"\n",
      "hand = open(filename)\n",
      "newPattern = \"(\\d+) (\\w+)\\s*\\|\\s*(\\w\\s*\\d+)\\s*\\|\\s*(\\w\\s*\\d+)\\s*\\|\\s*(\\w\\s*\\d+)\"\n",
      "for line in hand:\n",
      "    line =line.rstrip()\n",
      "   # print line\n",
      "    m = re.match(newPattern,line)\n",
      "    if m:\n",
      "        \n",
      "        print \"Rank:\" + m.group(1)\n",
      "        print \"Country:\"+ m.group(2)\n",
      "        print \"Results:\"\n",
      "        print m.group(3)\n",
      "        print m.group(4)\n",
      "        print m.group(5)\n",
      "        break  #break out of the loop so that we only print one line"
     ],
     "language": "python",
     "metadata": {},
     "outputs": [
      {
       "output_type": "stream",
       "stream": "stdout",
       "text": [
        "Rank:1\n",
        "Country:Germany\n",
        "Results:\n",
        "W 3\n",
        "T 4\n",
        "W 2\n"
       ]
      }
     ],
     "prompt_number": 1
    },
    {
     "cell_type": "heading",
     "level": 1,
     "metadata": {},
     "source": [
      "Extra Challenge Assignment, General Solution for any number of rounds"
     ]
    },
    {
     "cell_type": "code",
     "collapsed": false,
     "input": [
      "import re\n",
      "filename = \"C:\\Users\\jare\\SkyDrive\\WorkDocs\\CUNY\\Data_Analytics\\Data_Programming\\Week 6/week6pythonTest.txt\"\n",
      "hand = open(filename)\n",
      "newPattern = \"(\\d+) (\\w+)\" #\"\\s*\\|\\s*(\\w\\s*\\d+)\\s*\\|\\s*(\\w\\s*\\d+)\\s*\\|\\s*(\\w\\s*\\d+)\"\n",
      "\n",
      "for line in hand:\n",
      "    line =line.rstrip()\n",
      "   # print line\n",
      "    m = re.match(newPattern,line)\n",
      "    if m:\n",
      "        \n",
      "        print \"Rank:\" + m.group(1)\n",
      "        print \"Country:\"+ m.group(2)\n",
      "        print \"Results: \"\n",
      "        testPattern = \"(\\w\\s*\\d+)\"\n",
      "        m = re.findall(testPattern,line)\n",
      "        if m:\n",
      "            for x in range(len(m)):\n",
      "                print m[x]\n",
      "        \n",
      "        break  #break out of the loop so that we only print one line"
     ],
     "language": "python",
     "metadata": {},
     "outputs": [
      {
       "output_type": "stream",
       "stream": "stdout",
       "text": [
        "Rank:1\n",
        "Country:Germany\n",
        "Results: \n",
        "W 3\n",
        "T 4\n",
        "W 2\n",
        "L 1\n",
        "T 2\n",
        "W 4\n",
        "W 4\n",
        "T 3\n",
        "L 1\n"
       ]
      }
     ],
     "prompt_number": 2
    },
    {
     "cell_type": "code",
     "collapsed": false,
     "input": [],
     "language": "python",
     "metadata": {},
     "outputs": []
    }
   ],
   "metadata": {}
  }
 ]
}